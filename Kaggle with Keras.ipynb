{
 "cells": [
  {
   "cell_type": "code",
   "execution_count": 1,
   "metadata": {},
   "outputs": [
    {
     "name": "stderr",
     "output_type": "stream",
     "text": [
      "Using TensorFlow backend.\n"
     ]
    }
   ],
   "source": [
    "import numpy as np\n",
    "import pandas as pd\n",
    "\n",
    "import matplotlib.pyplot as plt\n",
    "% matplotlib inline\n",
    "import seaborn as sns\n",
    "\n",
    "from sklearn.preprocessing import StandardScaler\n",
    "from sklearn.model_selection import train_test_split\n",
    "\n",
    "\n",
    "from keras.models import Sequential\n",
    "from keras.layers import Dense, Dropout\n",
    "from keras.wrappers.scikit_learn import KerasClassifier\n",
    "from keras.layers import Dense, Conv2D, MaxPool2D, Flatten\n",
    "from keras.utils import to_categorical"
   ]
  },
  {
   "cell_type": "markdown",
   "metadata": {},
   "source": [
    "### Load training data\n",
    "\n",
    "Load `train.csv` from Kaggle into a pandas DataFrame."
   ]
  },
  {
   "cell_type": "code",
   "execution_count": 2,
   "metadata": {
    "scrolled": true
   },
   "outputs": [
    {
     "data": {
      "text/html": [
       "<div>\n",
       "<table border=\"1\" class=\"dataframe\">\n",
       "  <thead>\n",
       "    <tr style=\"text-align: right;\">\n",
       "      <th></th>\n",
       "      <th>label</th>\n",
       "      <th>pixel0</th>\n",
       "      <th>pixel1</th>\n",
       "      <th>pixel2</th>\n",
       "      <th>pixel3</th>\n",
       "      <th>pixel4</th>\n",
       "      <th>pixel5</th>\n",
       "      <th>pixel6</th>\n",
       "      <th>pixel7</th>\n",
       "      <th>pixel8</th>\n",
       "      <th>...</th>\n",
       "      <th>pixel774</th>\n",
       "      <th>pixel775</th>\n",
       "      <th>pixel776</th>\n",
       "      <th>pixel777</th>\n",
       "      <th>pixel778</th>\n",
       "      <th>pixel779</th>\n",
       "      <th>pixel780</th>\n",
       "      <th>pixel781</th>\n",
       "      <th>pixel782</th>\n",
       "      <th>pixel783</th>\n",
       "    </tr>\n",
       "  </thead>\n",
       "  <tbody>\n",
       "    <tr>\n",
       "      <th>0</th>\n",
       "      <td>1</td>\n",
       "      <td>0</td>\n",
       "      <td>0</td>\n",
       "      <td>0</td>\n",
       "      <td>0</td>\n",
       "      <td>0</td>\n",
       "      <td>0</td>\n",
       "      <td>0</td>\n",
       "      <td>0</td>\n",
       "      <td>0</td>\n",
       "      <td>...</td>\n",
       "      <td>0</td>\n",
       "      <td>0</td>\n",
       "      <td>0</td>\n",
       "      <td>0</td>\n",
       "      <td>0</td>\n",
       "      <td>0</td>\n",
       "      <td>0</td>\n",
       "      <td>0</td>\n",
       "      <td>0</td>\n",
       "      <td>0</td>\n",
       "    </tr>\n",
       "    <tr>\n",
       "      <th>1</th>\n",
       "      <td>0</td>\n",
       "      <td>0</td>\n",
       "      <td>0</td>\n",
       "      <td>0</td>\n",
       "      <td>0</td>\n",
       "      <td>0</td>\n",
       "      <td>0</td>\n",
       "      <td>0</td>\n",
       "      <td>0</td>\n",
       "      <td>0</td>\n",
       "      <td>...</td>\n",
       "      <td>0</td>\n",
       "      <td>0</td>\n",
       "      <td>0</td>\n",
       "      <td>0</td>\n",
       "      <td>0</td>\n",
       "      <td>0</td>\n",
       "      <td>0</td>\n",
       "      <td>0</td>\n",
       "      <td>0</td>\n",
       "      <td>0</td>\n",
       "    </tr>\n",
       "    <tr>\n",
       "      <th>2</th>\n",
       "      <td>1</td>\n",
       "      <td>0</td>\n",
       "      <td>0</td>\n",
       "      <td>0</td>\n",
       "      <td>0</td>\n",
       "      <td>0</td>\n",
       "      <td>0</td>\n",
       "      <td>0</td>\n",
       "      <td>0</td>\n",
       "      <td>0</td>\n",
       "      <td>...</td>\n",
       "      <td>0</td>\n",
       "      <td>0</td>\n",
       "      <td>0</td>\n",
       "      <td>0</td>\n",
       "      <td>0</td>\n",
       "      <td>0</td>\n",
       "      <td>0</td>\n",
       "      <td>0</td>\n",
       "      <td>0</td>\n",
       "      <td>0</td>\n",
       "    </tr>\n",
       "    <tr>\n",
       "      <th>3</th>\n",
       "      <td>4</td>\n",
       "      <td>0</td>\n",
       "      <td>0</td>\n",
       "      <td>0</td>\n",
       "      <td>0</td>\n",
       "      <td>0</td>\n",
       "      <td>0</td>\n",
       "      <td>0</td>\n",
       "      <td>0</td>\n",
       "      <td>0</td>\n",
       "      <td>...</td>\n",
       "      <td>0</td>\n",
       "      <td>0</td>\n",
       "      <td>0</td>\n",
       "      <td>0</td>\n",
       "      <td>0</td>\n",
       "      <td>0</td>\n",
       "      <td>0</td>\n",
       "      <td>0</td>\n",
       "      <td>0</td>\n",
       "      <td>0</td>\n",
       "    </tr>\n",
       "    <tr>\n",
       "      <th>4</th>\n",
       "      <td>0</td>\n",
       "      <td>0</td>\n",
       "      <td>0</td>\n",
       "      <td>0</td>\n",
       "      <td>0</td>\n",
       "      <td>0</td>\n",
       "      <td>0</td>\n",
       "      <td>0</td>\n",
       "      <td>0</td>\n",
       "      <td>0</td>\n",
       "      <td>...</td>\n",
       "      <td>0</td>\n",
       "      <td>0</td>\n",
       "      <td>0</td>\n",
       "      <td>0</td>\n",
       "      <td>0</td>\n",
       "      <td>0</td>\n",
       "      <td>0</td>\n",
       "      <td>0</td>\n",
       "      <td>0</td>\n",
       "      <td>0</td>\n",
       "    </tr>\n",
       "  </tbody>\n",
       "</table>\n",
       "<p>5 rows × 785 columns</p>\n",
       "</div>"
      ],
      "text/plain": [
       "   label  pixel0  pixel1  pixel2  pixel3  pixel4  pixel5  pixel6  pixel7  \\\n",
       "0      1       0       0       0       0       0       0       0       0   \n",
       "1      0       0       0       0       0       0       0       0       0   \n",
       "2      1       0       0       0       0       0       0       0       0   \n",
       "3      4       0       0       0       0       0       0       0       0   \n",
       "4      0       0       0       0       0       0       0       0       0   \n",
       "\n",
       "   pixel8    ...     pixel774  pixel775  pixel776  pixel777  pixel778  \\\n",
       "0       0    ...            0         0         0         0         0   \n",
       "1       0    ...            0         0         0         0         0   \n",
       "2       0    ...            0         0         0         0         0   \n",
       "3       0    ...            0         0         0         0         0   \n",
       "4       0    ...            0         0         0         0         0   \n",
       "\n",
       "   pixel779  pixel780  pixel781  pixel782  pixel783  \n",
       "0         0         0         0         0         0  \n",
       "1         0         0         0         0         0  \n",
       "2         0         0         0         0         0  \n",
       "3         0         0         0         0         0  \n",
       "4         0         0         0         0         0  \n",
       "\n",
       "[5 rows x 785 columns]"
      ]
     },
     "execution_count": 2,
     "metadata": {},
     "output_type": "execute_result"
    }
   ],
   "source": [
    "data = pd.read_csv('./train.csv')\n",
    "data.head()\n"
   ]
  },
  {
   "cell_type": "code",
   "execution_count": 3,
   "metadata": {},
   "outputs": [
    {
     "data": {
      "text/plain": [
       "array([[1, 0, 0, ..., 0, 0, 0],\n",
       "       [0, 0, 0, ..., 0, 0, 0],\n",
       "       [1, 0, 0, ..., 0, 0, 0],\n",
       "       ...,\n",
       "       [7, 0, 0, ..., 0, 0, 0],\n",
       "       [6, 0, 0, ..., 0, 0, 0],\n",
       "       [9, 0, 0, ..., 0, 0, 0]])"
      ]
     },
     "execution_count": 3,
     "metadata": {},
     "output_type": "execute_result"
    }
   ],
   "source": [
    "data = data.as_matrix()\n",
    "data"
   ]
  },
  {
   "cell_type": "markdown",
   "metadata": {},
   "source": [
    "### Set up X and y\n",
    "\n",
    "NOTE: Keras requires a `numpy` matrix, it doesn't work with `pandas`."
   ]
  },
  {
   "cell_type": "code",
   "execution_count": 4,
   "metadata": {},
   "outputs": [
    {
     "data": {
      "text/plain": [
       "(42000, 784)"
      ]
     },
     "execution_count": 4,
     "metadata": {},
     "output_type": "execute_result"
    }
   ],
   "source": [
    "y = data[:,0]\n",
    "X = data[:,1:]\n",
    "\n",
    "\n",
    "X.shape "
   ]
  },
  {
   "cell_type": "markdown",
   "metadata": {},
   "source": [
    "There are 42,000 images in the data set, each being 784 pixels.\n"
   ]
  },
  {
   "cell_type": "code",
   "execution_count": 5,
   "metadata": {},
   "outputs": [],
   "source": [
    "X = X / 255.0"
   ]
  },
  {
   "cell_type": "markdown",
   "metadata": {},
   "source": [
    "This normalizes the data so it can be read as greyscale.\n"
   ]
  },
  {
   "cell_type": "code",
   "execution_count": 6,
   "metadata": {},
   "outputs": [],
   "source": [
    "X = X.reshape(X.shape[0], 28,28,1)"
   ]
  },
  {
   "cell_type": "markdown",
   "metadata": {},
   "source": [
    "Gets the data into a readable format."
   ]
  },
  {
   "cell_type": "code",
   "execution_count": 7,
   "metadata": {},
   "outputs": [],
   "source": [
    "y = to_categorical(y)"
   ]
  },
  {
   "cell_type": "code",
   "execution_count": 8,
   "metadata": {},
   "outputs": [
    {
     "data": {
      "text/plain": [
       "(42000, 10)"
      ]
     },
     "execution_count": 8,
     "metadata": {},
     "output_type": "execute_result"
    }
   ],
   "source": [
    "y.shape"
   ]
  },
  {
   "cell_type": "markdown",
   "metadata": {},
   "source": [
    "### Preprocessing\n",
    "\n",
    "1. When dealing with image data, you need to normalize your `X` by dividing each value by the max number of pixels (255).\n",
    "2. Your `X` is currently a 42,000 x 784 matrix. For a CNN model, this needs to be reshaped into a **42,000 x 28 x 28 x 1** matrix\n",
    "3. Since this is a multiclass classification problem, keras needs `y` to be a one-hot encoded matrix"
   ]
  },
  {
   "cell_type": "markdown",
   "metadata": {
    "collapsed": true
   },
   "source": [
    "For all preprocessing, see above."
   ]
  },
  {
   "cell_type": "markdown",
   "metadata": {},
   "source": [
    "### Train/Test Split\n",
    "\n",
    "We want to create a validation set that the model will never see to approximate how it's going to do with Kaggle's `test.csv`. Use `sklearn`'s `train_test_split` to do this."
   ]
  },
  {
   "cell_type": "code",
   "execution_count": 9,
   "metadata": {},
   "outputs": [],
   "source": [
    "#Train, test split\n",
    "\n",
    "X_train, X_holdout, y_train, y_holdout = train_test_split(X, y, random_state=42, stratify=y)"
   ]
  },
  {
   "cell_type": "markdown",
   "metadata": {},
   "source": [
    "### Create your convolutional neural network\n",
    "\n",
    "Create a convolutional neural network using the `Dense`, `Dropout`, `Conv2D`, `MaxPool2D` and `Flatten` layers from `keras`. Your activation function for the final output layer needs to be `softmax` to account for there being ten different classes."
   ]
  },
  {
   "cell_type": "code",
   "execution_count": 10,
   "metadata": {},
   "outputs": [],
   "source": [
    "model = Sequential()\n",
    "model.add(Conv2D(15, (5,5), input_shape=(28,28, 1), activation='relu')) #tuple is the size of the magnifying glass\n",
    "model.add(MaxPool2D((2, 2))) #search params\n",
    "model.add(Conv2D(30, (4,4), activation='relu'))\n",
    "model.add(MaxPool2D((2,2)))\n",
    "model.add(Flatten())\n",
    "model.add(Dense(50, activation='relu'))\n",
    "model.add(Dense(10, activation='softmax'))"
   ]
  },
  {
   "cell_type": "markdown",
   "metadata": {},
   "source": [
    "### Compile your model\n",
    "\n",
    "Since this is a multiclass classification problem, your loss function is `categorical_crossentropy`."
   ]
  },
  {
   "cell_type": "code",
   "execution_count": 11,
   "metadata": {},
   "outputs": [],
   "source": [
    "model.compile(loss='categorical_crossentropy', optimizer='adam', metrics=['accuracy'])"
   ]
  },
  {
   "cell_type": "markdown",
   "metadata": {},
   "source": [
    "### Fit the model\n",
    "\n",
    "Use your X_test, y_test from the `train_test_split` step for the `validation_data` parameter."
   ]
  },
  {
   "cell_type": "code",
   "execution_count": 41,
   "metadata": {},
   "outputs": [
    {
     "name": "stdout",
     "output_type": "stream",
     "text": [
      "Train on 31500 samples, validate on 10500 samples\n",
      "Epoch 1/10\n",
      "31500/31500 [==============================] - 24s 767us/step - loss: 0.0091 - acc: 0.9970 - val_loss: 0.0531 - val_acc: 0.9889\n",
      "Epoch 2/10\n",
      "31500/31500 [==============================] - 24s 748us/step - loss: 0.0066 - acc: 0.9978 - val_loss: 0.0395 - val_acc: 0.9916\n",
      "Epoch 3/10\n",
      "31500/31500 [==============================] - 24s 755us/step - loss: 0.0064 - acc: 0.9977 - val_loss: 0.0453 - val_acc: 0.9924\n",
      "Epoch 4/10\n",
      "31500/31500 [==============================] - 24s 771us/step - loss: 0.0080 - acc: 0.9973 - val_loss: 0.0541 - val_acc: 0.9884\n",
      "Epoch 5/10\n",
      "31500/31500 [==============================] - 25s 795us/step - loss: 0.0064 - acc: 0.9975 - val_loss: 0.0446 - val_acc: 0.9923\n",
      "Epoch 6/10\n",
      "31500/31500 [==============================] - 28s 892us/step - loss: 0.0029 - acc: 0.9990 - val_loss: 0.0505 - val_acc: 0.9918\n",
      "Epoch 7/10\n",
      "31500/31500 [==============================] - 27s 863us/step - loss: 0.0060 - acc: 0.9979 - val_loss: 0.0385 - val_acc: 0.9932\n",
      "Epoch 8/10\n",
      "31500/31500 [==============================] - 27s 849us/step - loss: 0.0051 - acc: 0.9984 - val_loss: 0.0456 - val_acc: 0.9916\n",
      "Epoch 9/10\n",
      "31500/31500 [==============================] - 28s 878us/step - loss: 0.0038 - acc: 0.9990 - val_loss: 0.0459 - val_acc: 0.9926\n",
      "Epoch 10/10\n",
      "31500/31500 [==============================] - 28s 878us/step - loss: 0.0066 - acc: 0.9979 - val_loss: 0.0432 - val_acc: 0.9931\n"
     ]
    }
   ],
   "source": [
    "hist = model.fit(X_train, y_train, validation_data=(X_holdout, y_holdout), epochs=10)"
   ]
  },
  {
   "cell_type": "code",
   "execution_count": 43,
   "metadata": {},
   "outputs": [
    {
     "data": {
      "image/png": "[encoded data removed]",
      "text/plain": [
       "<matplotlib.figure.Figure at 0x7fa2b876c5c0>"
      ]
     },
     "metadata": {},
     "output_type": "display_data"
    }
   ],
   "source": [
    "import seaborn as sns\n",
    "\n",
    "sns.mpl.pyplot.figure(figsize=(6,6))\n",
    "sns.mpl.pyplot.plot(hist.history['loss'], label='Training Loss')\n",
    "sns.mpl.pyplot.plot(hist.history['val_loss'], label='Test Loss')\n",
    "sns.mpl.pyplot.legend();"
   ]
  },
  {
   "cell_type": "markdown",
   "metadata": {},
   "source": [
    "# Another one - with Dropout\n"
   ]
  },
  {
   "cell_type": "code",
   "execution_count": 46,
   "metadata": {},
   "outputs": [],
   "source": [
    "model = Sequential()\n",
    "model.add(Conv2D(20, (5,5), input_shape=(28,28, 1), activation='relu')) #tuple is the size of the magnifying glass\n",
    "model.add(MaxPool2D((2, 2))) #search params\n",
    "model.add(Dropout(.25))\n",
    "model.add(Conv2D(30, (4,4), activation='relu'))\n",
    "model.add(MaxPool2D((2,2)))\n",
    "model.add(Flatten())\n",
    "model.add(Dense(50, activation='relu'))\n",
    "model.add(Dense(20, activation='relu'))\n",
    "model.add(Dense(10, activation='softmax'))"
   ]
  },
  {
   "cell_type": "code",
   "execution_count": 47,
   "metadata": {},
   "outputs": [],
   "source": [
    "model.compile(loss='categorical_crossentropy', optimizer='adam', metrics=['accuracy'])"
   ]
  },
  {
   "cell_type": "code",
   "execution_count": null,
   "metadata": {},
   "outputs": [],
   "source": []
  },
  {
   "cell_type": "code",
   "execution_count": 48,
   "metadata": {
    "scrolled": false
   },
   "outputs": [
    {
     "name": "stdout",
     "output_type": "stream",
     "text": [
      "Train on 31500 samples, validate on 10500 samples\n",
      "Epoch 1/10\n",
      "31500/31500 [==============================] - 28s 899us/step - loss: 0.3351 - acc: 0.8927 - val_loss: 0.1264 - val_acc: 0.9608\n",
      "Epoch 2/10\n",
      "31500/31500 [==============================] - 29s 921us/step - loss: 0.0926 - acc: 0.9710 - val_loss: 0.0847 - val_acc: 0.9746\n",
      "Epoch 3/10\n",
      "31500/31500 [==============================] - 29s 926us/step - loss: 0.0623 - acc: 0.9797 - val_loss: 0.0537 - val_acc: 0.9831\n",
      "Epoch 4/10\n",
      "31500/31500 [==============================] - 30s 942us/step - loss: 0.0484 - acc: 0.9843 - val_loss: 0.0515 - val_acc: 0.9830\n",
      "Epoch 5/10\n",
      "31500/31500 [==============================] - 33s 1ms/step - loss: 0.0377 - acc: 0.9882 - val_loss: 0.0534 - val_acc: 0.9854\n",
      "Epoch 6/10\n",
      "31500/31500 [==============================] - 29s 936us/step - loss: 0.0310 - acc: 0.9896 - val_loss: 0.0469 - val_acc: 0.9850\n",
      "Epoch 7/10\n",
      "31500/31500 [==============================] - 28s 893us/step - loss: 0.0269 - acc: 0.9911 - val_loss: 0.0341 - val_acc: 0.9893\n",
      "Epoch 8/10\n",
      "31500/31500 [==============================] - 29s 928us/step - loss: 0.0251 - acc: 0.9919 - val_loss: 0.0401 - val_acc: 0.9892\n",
      "Epoch 9/10\n",
      "31500/31500 [==============================] - 29s 922us/step - loss: 0.0223 - acc: 0.9920 - val_loss: 0.0349 - val_acc: 0.9906\n",
      "Epoch 10/10\n",
      "31500/31500 [==============================] - 28s 876us/step - loss: 0.0186 - acc: 0.9937 - val_loss: 0.0316 - val_acc: 0.9916\n"
     ]
    }
   ],
   "source": [
    "hist = model.fit(X_train, y_train, validation_data=(X_holdout, y_holdout), epochs=25)"
   ]
  },
  {
   "cell_type": "code",
   "execution_count": 49,
   "metadata": {},
   "outputs": [
    {
     "data": {
      "image/png": "[encoded data removed]",
      "text/plain": [
       "<matplotlib.figure.Figure at 0x7fa2b80819b0>"
      ]
     },
     "metadata": {},
     "output_type": "display_data"
    }
   ],
   "source": [
    "sns.mpl.pyplot.figure(figsize=(6,6))\n",
    "sns.mpl.pyplot.plot(hist.history['loss'], label='Training Loss')\n",
    "sns.mpl.pyplot.plot(hist.history['val_loss'], label='Test Loss')\n",
    "sns.mpl.pyplot.legend();"
   ]
  },
  {
   "cell_type": "markdown",
   "metadata": {},
   "source": [
    "# Another "
   ]
  },
  {
   "cell_type": "code",
   "execution_count": 60,
   "metadata": {},
   "outputs": [],
   "source": [
    "model = Sequential()\n",
    "model.add(Conv2D(20, (5,5), input_shape=(28,28, 1), activation='relu')) #tuple is the size of the magnifying glass\n",
    "model.add(MaxPool2D((2,2))) #search params\n",
    "model.add(Dropout(.25))\n",
    "model.add(Conv2D(30, (4,4), activation='relu'))\n",
    "model.add(MaxPool2D((2,2)))\n",
    "model.add(Flatten())\n",
    "model.add(Dense(50, activation='relu'))\n",
    "model.add(Dense(20, activation='relu'))\n",
    "model.add(Dense(10, activation='relu'))\n",
    "model.add(Dense(10, activation='softmax'))\n",
    "\n",
    "model.compile(loss='categorical_crossentropy', optimizer='adam', metrics=['accuracy'])\n",
    "\n",
    "hist = model.fit(X_train, y_train, validation_data=(X_holdout, y_holdout), epochs=25)\n",
    "\n",
    "sns.mpl.pyplot.figure(figsize=(6,6))\n",
    "sns.mpl.pyplot.plot(hist.history['loss'], label='Training Loss')\n",
    "sns.mpl.pyplot.plot(hist.history['val_loss'], label='Test Loss')\n",
    "sns.mpl.pyplot.legend();"
   ]
  },
  {
   "cell_type": "markdown",
   "metadata": {},
   "source": [
    "# Another"
   ]
  },
  {
   "cell_type": "code",
   "execution_count": 82,
   "metadata": {},
   "outputs": [
    {
     "name": "stdout",
     "output_type": "stream",
     "text": [
      "Train on 31500 samples, validate on 10500 samples\n",
      "Epoch 1/30\n",
      "31500/31500 [==============================] - 16s 515us/step - loss: 0.5411 - acc: 0.8260 - val_loss: 0.1991 - val_acc: 0.9432\n",
      "Epoch 2/30\n",
      "31500/31500 [==============================] - 17s 526us/step - loss: 0.1521 - acc: 0.9545 - val_loss: 0.1186 - val_acc: 0.9635\n",
      "Epoch 3/30\n",
      "31500/31500 [==============================] - 16s 516us/step - loss: 0.0988 - acc: 0.9695 - val_loss: 0.1080 - val_acc: 0.9679\n",
      "Epoch 4/30\n",
      "31500/31500 [==============================] - 16s 519us/step - loss: 0.0735 - acc: 0.9770 - val_loss: 0.0722 - val_acc: 0.9790\n",
      "Epoch 5/30\n",
      "31500/31500 [==============================] - 17s 524us/step - loss: 0.0589 - acc: 0.9825 - val_loss: 0.0650 - val_acc: 0.9822\n",
      "Epoch 6/30\n",
      "31500/31500 [==============================] - 17s 525us/step - loss: 0.0500 - acc: 0.9851 - val_loss: 0.0663 - val_acc: 0.9815\n",
      "Epoch 7/30\n",
      "31500/31500 [==============================] - 17s 538us/step - loss: 0.0416 - acc: 0.9874 - val_loss: 0.0821 - val_acc: 0.9747\n",
      "Epoch 8/30\n",
      "31500/31500 [==============================] - 17s 540us/step - loss: 0.0348 - acc: 0.9886 - val_loss: 0.0678 - val_acc: 0.9819\n",
      "Epoch 9/30\n",
      "31500/31500 [==============================] - 17s 539us/step - loss: 0.0322 - acc: 0.9900 - val_loss: 0.0566 - val_acc: 0.9848\n",
      "Epoch 10/30\n",
      "31500/31500 [==============================] - 17s 544us/step - loss: 0.0291 - acc: 0.9905 - val_loss: 0.0479 - val_acc: 0.9874\n",
      "Epoch 11/30\n",
      "31500/31500 [==============================] - 17s 540us/step - loss: 0.0238 - acc: 0.9923 - val_loss: 0.0766 - val_acc: 0.9786\n",
      "Epoch 12/30\n",
      "31500/31500 [==============================] - 17s 545us/step - loss: 0.0232 - acc: 0.9929 - val_loss: 0.0582 - val_acc: 0.9854\n",
      "Epoch 13/30\n",
      "31500/31500 [==============================] - 18s 557us/step - loss: 0.0189 - acc: 0.9940 - val_loss: 0.0544 - val_acc: 0.9869\n",
      "Epoch 14/30\n",
      "31500/31500 [==============================] - 17s 540us/step - loss: 0.0193 - acc: 0.9938 - val_loss: 0.0540 - val_acc: 0.9874\n",
      "Epoch 15/30\n",
      "31500/31500 [==============================] - 17s 545us/step - loss: 0.0197 - acc: 0.9931 - val_loss: 0.0545 - val_acc: 0.9871\n",
      "Epoch 16/30\n",
      "31500/31500 [==============================] - 18s 560us/step - loss: 0.0149 - acc: 0.9956 - val_loss: 0.0420 - val_acc: 0.9905\n",
      "Epoch 17/30\n",
      "31500/31500 [==============================] - 17s 544us/step - loss: 0.0149 - acc: 0.9954 - val_loss: 0.0473 - val_acc: 0.9908\n",
      "Epoch 18/30\n",
      "31500/31500 [==============================] - 17s 544us/step - loss: 0.0160 - acc: 0.9944 - val_loss: 0.0516 - val_acc: 0.9893\n",
      "Epoch 19/30\n",
      "31500/31500 [==============================] - 17s 548us/step - loss: 0.0126 - acc: 0.9961 - val_loss: 0.0538 - val_acc: 0.9884\n",
      "Epoch 20/30\n",
      "31500/31500 [==============================] - 18s 560us/step - loss: 0.0123 - acc: 0.9961 - val_loss: 0.0533 - val_acc: 0.9887\n",
      "Epoch 21/30\n",
      "31500/31500 [==============================] - 17s 528us/step - loss: 0.0133 - acc: 0.9955 - val_loss: 0.0542 - val_acc: 0.9881\n",
      "Epoch 22/30\n",
      "31500/31500 [==============================] - 17s 528us/step - loss: 0.0090 - acc: 0.9974 - val_loss: 0.0575 - val_acc: 0.9881\n",
      "Epoch 23/30\n",
      "31500/31500 [==============================] - 18s 562us/step - loss: 0.0114 - acc: 0.9967 - val_loss: 0.0505 - val_acc: 0.9884\n",
      "Epoch 24/30\n",
      "31500/31500 [==============================] - 17s 546us/step - loss: 0.0115 - acc: 0.9963 - val_loss: 0.0393 - val_acc: 0.9907\n",
      "Epoch 25/30\n",
      "31500/31500 [==============================] - 18s 586us/step - loss: 0.0132 - acc: 0.9963 - val_loss: 0.0416 - val_acc: 0.9906\n",
      "Epoch 26/30\n",
      "31500/31500 [==============================] - 17s 534us/step - loss: 0.0094 - acc: 0.9971 - val_loss: 0.0512 - val_acc: 0.9897\n",
      "Epoch 27/30\n",
      "31500/31500 [==============================] - 17s 554us/step - loss: 0.0138 - acc: 0.9956 - val_loss: 0.0491 - val_acc: 0.9898\n",
      "Epoch 28/30\n",
      "31500/31500 [==============================] - 17s 549us/step - loss: 0.0060 - acc: 0.9980 - val_loss: 0.0517 - val_acc: 0.9900\n",
      "Epoch 29/30\n",
      "31500/31500 [==============================] - 18s 559us/step - loss: 0.0092 - acc: 0.9972 - val_loss: 0.0464 - val_acc: 0.9899\n",
      "Epoch 30/30\n",
      "31500/31500 [==============================] - 17s 534us/step - loss: 0.0092 - acc: 0.9974 - val_loss: 0.0442 - val_acc: 0.9920\n"
     ]
    },
    {
     "data": {
      "image/png": "[encoded data removed]",
      "text/plain": [
       "<matplotlib.figure.Figure at 0x7fa285613780>"
      ]
     },
     "metadata": {},
     "output_type": "display_data"
    }
   ],
   "source": [
    "model = Sequential()\n",
    "model.add(Conv2D(20, (5,5), input_shape=(28,28, 1), activation='relu')) #tuple is the size of the magnifying glass\n",
    "model.add(MaxPool2D((4,4))) #search params\n",
    "\n",
    "model.add(Conv2D(20, (5,5), activation='relu'))\n",
    "model.add(MaxPool2D((2,2)))\n",
    "model.add(Flatten())\n",
    "model.add(Dense(50, activation='relu'))\n",
    "model.add(Dense(30, activation='relu'))\n",
    "model.add(Dense(20, activation='relu'))\n",
    "model.add(Dense(20, activation='relu'))\n",
    "model.add(Dense(10, activation='softmax'))\n",
    "\n",
    "model.compile(loss='categorical_crossentropy', optimizer='adam', metrics=['accuracy'])\n",
    "\n",
    "hist = model.fit(X_train, y_train, validation_data=(X_holdout, y_holdout), epochs=30)\n",
    "\n",
    "sns.mpl.pyplot.figure(figsize=(6,6))\n",
    "sns.mpl.pyplot.plot(hist.history['loss'], label='Training Loss')\n",
    "sns.mpl.pyplot.plot(hist.history['val_loss'], label='Test Loss')\n",
    "sns.mpl.pyplot.legend();"
   ]
  },
  {
   "cell_type": "markdown",
   "metadata": {},
   "source": [
    "### Load in Kaggle's `test.csv`\n",
    "\n",
    "Be sure to do the **same** preprocessing you did for your training `X`."
   ]
  },
  {
   "cell_type": "code",
   "execution_count": 83,
   "metadata": {},
   "outputs": [
    {
     "data": {
      "text/html": [
       "<div>\n",
       "<table border=\"1\" class=\"dataframe\">\n",
       "  <thead>\n",
       "    <tr style=\"text-align: right;\">\n",
       "      <th></th>\n",
       "      <th>pixel0</th>\n",
       "      <th>pixel1</th>\n",
       "      <th>pixel2</th>\n",
       "      <th>pixel3</th>\n",
       "      <th>pixel4</th>\n",
       "      <th>pixel5</th>\n",
       "      <th>pixel6</th>\n",
       "      <th>pixel7</th>\n",
       "      <th>pixel8</th>\n",
       "      <th>pixel9</th>\n",
       "      <th>...</th>\n",
       "      <th>pixel774</th>\n",
       "      <th>pixel775</th>\n",
       "      <th>pixel776</th>\n",
       "      <th>pixel777</th>\n",
       "      <th>pixel778</th>\n",
       "      <th>pixel779</th>\n",
       "      <th>pixel780</th>\n",
       "      <th>pixel781</th>\n",
       "      <th>pixel782</th>\n",
       "      <th>pixel783</th>\n",
       "    </tr>\n",
       "  </thead>\n",
       "  <tbody>\n",
       "    <tr>\n",
       "      <th>0</th>\n",
       "      <td>0</td>\n",
       "      <td>0</td>\n",
       "      <td>0</td>\n",
       "      <td>0</td>\n",
       "      <td>0</td>\n",
       "      <td>0</td>\n",
       "      <td>0</td>\n",
       "      <td>0</td>\n",
       "      <td>0</td>\n",
       "      <td>0</td>\n",
       "      <td>...</td>\n",
       "      <td>0</td>\n",
       "      <td>0</td>\n",
       "      <td>0</td>\n",
       "      <td>0</td>\n",
       "      <td>0</td>\n",
       "      <td>0</td>\n",
       "      <td>0</td>\n",
       "      <td>0</td>\n",
       "      <td>0</td>\n",
       "      <td>0</td>\n",
       "    </tr>\n",
       "    <tr>\n",
       "      <th>1</th>\n",
       "      <td>0</td>\n",
       "      <td>0</td>\n",
       "      <td>0</td>\n",
       "      <td>0</td>\n",
       "      <td>0</td>\n",
       "      <td>0</td>\n",
       "      <td>0</td>\n",
       "      <td>0</td>\n",
       "      <td>0</td>\n",
       "      <td>0</td>\n",
       "      <td>...</td>\n",
       "      <td>0</td>\n",
       "      <td>0</td>\n",
       "      <td>0</td>\n",
       "      <td>0</td>\n",
       "      <td>0</td>\n",
       "      <td>0</td>\n",
       "      <td>0</td>\n",
       "      <td>0</td>\n",
       "      <td>0</td>\n",
       "      <td>0</td>\n",
       "    </tr>\n",
       "    <tr>\n",
       "      <th>2</th>\n",
       "      <td>0</td>\n",
       "      <td>0</td>\n",
       "      <td>0</td>\n",
       "      <td>0</td>\n",
       "      <td>0</td>\n",
       "      <td>0</td>\n",
       "      <td>0</td>\n",
       "      <td>0</td>\n",
       "      <td>0</td>\n",
       "      <td>0</td>\n",
       "      <td>...</td>\n",
       "      <td>0</td>\n",
       "      <td>0</td>\n",
       "      <td>0</td>\n",
       "      <td>0</td>\n",
       "      <td>0</td>\n",
       "      <td>0</td>\n",
       "      <td>0</td>\n",
       "      <td>0</td>\n",
       "      <td>0</td>\n",
       "      <td>0</td>\n",
       "    </tr>\n",
       "    <tr>\n",
       "      <th>3</th>\n",
       "      <td>0</td>\n",
       "      <td>0</td>\n",
       "      <td>0</td>\n",
       "      <td>0</td>\n",
       "      <td>0</td>\n",
       "      <td>0</td>\n",
       "      <td>0</td>\n",
       "      <td>0</td>\n",
       "      <td>0</td>\n",
       "      <td>0</td>\n",
       "      <td>...</td>\n",
       "      <td>0</td>\n",
       "      <td>0</td>\n",
       "      <td>0</td>\n",
       "      <td>0</td>\n",
       "      <td>0</td>\n",
       "      <td>0</td>\n",
       "      <td>0</td>\n",
       "      <td>0</td>\n",
       "      <td>0</td>\n",
       "      <td>0</td>\n",
       "    </tr>\n",
       "    <tr>\n",
       "      <th>4</th>\n",
       "      <td>0</td>\n",
       "      <td>0</td>\n",
       "      <td>0</td>\n",
       "      <td>0</td>\n",
       "      <td>0</td>\n",
       "      <td>0</td>\n",
       "      <td>0</td>\n",
       "      <td>0</td>\n",
       "      <td>0</td>\n",
       "      <td>0</td>\n",
       "      <td>...</td>\n",
       "      <td>0</td>\n",
       "      <td>0</td>\n",
       "      <td>0</td>\n",
       "      <td>0</td>\n",
       "      <td>0</td>\n",
       "      <td>0</td>\n",
       "      <td>0</td>\n",
       "      <td>0</td>\n",
       "      <td>0</td>\n",
       "      <td>0</td>\n",
       "    </tr>\n",
       "  </tbody>\n",
       "</table>\n",
       "<p>5 rows × 784 columns</p>\n",
       "</div>"
      ],
      "text/plain": [
       "   pixel0  pixel1  pixel2  pixel3  pixel4  pixel5  pixel6  pixel7  pixel8  \\\n",
       "0       0       0       0       0       0       0       0       0       0   \n",
       "1       0       0       0       0       0       0       0       0       0   \n",
       "2       0       0       0       0       0       0       0       0       0   \n",
       "3       0       0       0       0       0       0       0       0       0   \n",
       "4       0       0       0       0       0       0       0       0       0   \n",
       "\n",
       "   pixel9    ...     pixel774  pixel775  pixel776  pixel777  pixel778  \\\n",
       "0       0    ...            0         0         0         0         0   \n",
       "1       0    ...            0         0         0         0         0   \n",
       "2       0    ...            0         0         0         0         0   \n",
       "3       0    ...            0         0         0         0         0   \n",
       "4       0    ...            0         0         0         0         0   \n",
       "\n",
       "   pixel779  pixel780  pixel781  pixel782  pixel783  \n",
       "0         0         0         0         0         0  \n",
       "1         0         0         0         0         0  \n",
       "2         0         0         0         0         0  \n",
       "3         0         0         0         0         0  \n",
       "4         0         0         0         0         0  \n",
       "\n",
       "[5 rows x 784 columns]"
      ]
     },
     "execution_count": 83,
     "metadata": {},
     "output_type": "execute_result"
    }
   ],
   "source": [
    "test = pd.read_csv('./test.csv')\n",
    "test.head()"
   ]
  },
  {
   "cell_type": "code",
   "execution_count": 84,
   "metadata": {},
   "outputs": [],
   "source": [
    "test = test.as_matrix() #turns it into a np.array"
   ]
  },
  {
   "cell_type": "code",
   "execution_count": 85,
   "metadata": {},
   "outputs": [
    {
     "data": {
      "text/plain": [
       "array([[0, 0, 0, ..., 0, 0, 0],\n",
       "       [0, 0, 0, ..., 0, 0, 0],\n",
       "       [0, 0, 0, ..., 0, 0, 0],\n",
       "       ...,\n",
       "       [0, 0, 0, ..., 0, 0, 0],\n",
       "       [0, 0, 0, ..., 0, 0, 0],\n",
       "       [0, 0, 0, ..., 0, 0, 0]])"
      ]
     },
     "execution_count": 85,
     "metadata": {},
     "output_type": "execute_result"
    }
   ],
   "source": [
    "test"
   ]
  },
  {
   "cell_type": "code",
   "execution_count": 86,
   "metadata": {},
   "outputs": [],
   "source": [
    "X_test = test"
   ]
  },
  {
   "cell_type": "code",
   "execution_count": 87,
   "metadata": {},
   "outputs": [],
   "source": [
    "X_test = X_test/255.0"
   ]
  },
  {
   "cell_type": "code",
   "execution_count": 88,
   "metadata": {},
   "outputs": [],
   "source": [
    "X_test = X_test.reshape(X_test.shape[0], 28,28,1) #same as above"
   ]
  },
  {
   "cell_type": "code",
   "execution_count": null,
   "metadata": {},
   "outputs": [],
   "source": []
  },
  {
   "cell_type": "markdown",
   "metadata": {},
   "source": [
    "### Create your predictions\n",
    "\n",
    "Use `predict_classes` to get the actual numerical values (0-9)."
   ]
  },
  {
   "cell_type": "code",
   "execution_count": 89,
   "metadata": {},
   "outputs": [
    {
     "data": {
      "text/plain": [
       "array([2, 0, 9, ..., 3, 9, 2])"
      ]
     },
     "execution_count": 89,
     "metadata": {},
     "output_type": "execute_result"
    }
   ],
   "source": [
    "preds = model.predict_classes(X_test)\n",
    "preds"
   ]
  },
  {
   "cell_type": "markdown",
   "metadata": {},
   "source": [
    "### Prepare your submission\n",
    "\n",
    "Create a submission DataFrame with the following:\n",
    "\n",
    "1. Add your predictions to a column called `Label`\n",
    "2. You'll need to manually create the `ImageId` column, which is just a list of 1..[NUMBER OF TEST SAMPLES]"
   ]
  },
  {
   "cell_type": "code",
   "execution_count": 90,
   "metadata": {},
   "outputs": [
    {
     "data": {
      "text/plain": [
       "(28000,)"
      ]
     },
     "execution_count": 90,
     "metadata": {},
     "output_type": "execute_result"
    }
   ],
   "source": [
    "X_test.shape\n",
    "preds.shape"
   ]
  },
  {
   "cell_type": "code",
   "execution_count": 91,
   "metadata": {},
   "outputs": [
    {
     "data": {
      "text/html": [
       "<div>\n",
       "<table border=\"1\" class=\"dataframe\">\n",
       "  <thead>\n",
       "    <tr style=\"text-align: right;\">\n",
       "      <th></th>\n",
       "      <th>Label</th>\n",
       "      <th>ImageID</th>\n",
       "    </tr>\n",
       "  </thead>\n",
       "  <tbody>\n",
       "    <tr>\n",
       "      <th>0</th>\n",
       "      <td>2</td>\n",
       "      <td>1</td>\n",
       "    </tr>\n",
       "    <tr>\n",
       "      <th>1</th>\n",
       "      <td>0</td>\n",
       "      <td>2</td>\n",
       "    </tr>\n",
       "    <tr>\n",
       "      <th>2</th>\n",
       "      <td>9</td>\n",
       "      <td>3</td>\n",
       "    </tr>\n",
       "    <tr>\n",
       "      <th>3</th>\n",
       "      <td>0</td>\n",
       "      <td>4</td>\n",
       "    </tr>\n",
       "    <tr>\n",
       "      <th>4</th>\n",
       "      <td>3</td>\n",
       "      <td>5</td>\n",
       "    </tr>\n",
       "  </tbody>\n",
       "</table>\n",
       "</div>"
      ],
      "text/plain": [
       "   Label  ImageID\n",
       "0      2        1\n",
       "1      0        2\n",
       "2      9        3\n",
       "3      0        4\n",
       "4      3        5"
      ]
     },
     "execution_count": 91,
     "metadata": {},
     "output_type": "execute_result"
    }
   ],
   "source": [
    "submission = pd.DataFrame()\n",
    "submission['Label'] = preds\n",
    "submission['ImageID'] = list(range(1, X_test.shape[0]+1))\n",
    "submission.head()"
   ]
  },
  {
   "cell_type": "markdown",
   "metadata": {},
   "source": [
    "### Create your submission csv\n",
    "\n",
    "Remember to set `index=False`!"
   ]
  },
  {
   "cell_type": "code",
   "execution_count": 92,
   "metadata": {},
   "outputs": [],
   "source": [
    "submission[['Label', 'ImageID']].to_csv('submission_4.csv', index = False)"
   ]
  },
  {
   "cell_type": "code",
   "execution_count": null,
   "metadata": {},
   "outputs": [],
   "source": []
  }
 ],
 "metadata": {
  "kernelspec": {
   "display_name": "Python 3",
   "language": "python",
   "name": "python3"
  },
  "language_info": {
   "codemirror_mode": {
    "name": "ipython",
    "version": 3
   },
   "file_extension": ".py",
   "mimetype": "text/x-python",
   "name": "python",
   "nbconvert_exporter": "python",
   "pygments_lexer": "ipython3",
   "version": "3.6.3"
  }
 },
 "nbformat": 4,
 "nbformat_minor": 2
}
